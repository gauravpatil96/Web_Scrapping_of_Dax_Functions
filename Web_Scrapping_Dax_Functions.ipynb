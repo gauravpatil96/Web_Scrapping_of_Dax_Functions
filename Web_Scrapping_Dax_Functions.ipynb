{
 "cells": [
  {
   "cell_type": "code",
   "execution_count": 1,
   "id": "76c73e59-f2a3-46e0-8f36-b7083f18e168",
   "metadata": {},
   "outputs": [],
   "source": [
    "from selenium import webdriver\n",
    "from selenium.webdriver.common.by import By\n",
    "import requests\n",
    "import time"
   ]
  },
  {
   "cell_type": "code",
   "execution_count": 2,
   "id": "70783e50-5ee4-4d72-b643-1cff98eb6c3e",
   "metadata": {},
   "outputs": [],
   "source": [
    "#Getting the urls\n",
    "url = \"https://www.datacamp.com/cheat-sheet/dax-cheat-sheet\"\n",
    "driver = webdriver.Chrome()\n",
    "driver.get(url)"
   ]
  },
  {
   "cell_type": "code",
   "execution_count": 10,
   "id": "ecdf5780-8948-4d32-9bd5-e47dea324cd1",
   "metadata": {},
   "outputs": [],
   "source": [
    "n = driver.find_elements(By.XPATH, '//span[@class = \"listed-menu css-kffgyv\"]')\n",
    "\n",
    "# Save the data to a text file\n",
    "with open('datacamp_dax_cheat_sheet.txt', 'a') as file:\n",
    "    for entry in n:\n",
    "        file.write(entry.text + \"\\n\")"
   ]
  }
 ],
 "metadata": {
  "kernelspec": {
   "display_name": "Python 3 (ipykernel)",
   "language": "python",
   "name": "python3"
  },
  "language_info": {
   "codemirror_mode": {
    "name": "ipython",
    "version": 3
   },
   "file_extension": ".py",
   "mimetype": "text/x-python",
   "name": "python",
   "nbconvert_exporter": "python",
   "pygments_lexer": "ipython3",
   "version": "3.12.0"
  }
 },
 "nbformat": 4,
 "nbformat_minor": 5
}
